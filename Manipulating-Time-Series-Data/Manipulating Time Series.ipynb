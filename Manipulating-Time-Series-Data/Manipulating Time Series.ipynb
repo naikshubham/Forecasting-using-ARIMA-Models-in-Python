{
 "cells": [
  {
   "cell_type": "markdown",
   "metadata": {},
   "source": [
    "### First time series\n",
    "- create a sequence of dates using pd.date_range()\n",
    "-  each date in the resulting pd.DatetimeIndex is a pd.Timestamp with various attributes that you can access to obtain information about the date.\n"
   ]
  },
  {
   "cell_type": "code",
   "execution_count": 2,
   "metadata": {},
   "outputs": [],
   "source": [
    "import pandas as pd\n",
    "from datetime import datetime"
   ]
  },
  {
   "cell_type": "code",
   "execution_count": 7,
   "metadata": {},
   "outputs": [
    {
     "name": "stdout",
     "output_type": "stream",
     "text": [
      "6 <built-in method day_name of Timestamp object at 0x00000171FEA30750>\n",
      "0 <built-in method day_name of Timestamp object at 0x00000171FEA30CF0>\n",
      "1 <built-in method day_name of Timestamp object at 0x00000171FEA30C78>\n",
      "2 <built-in method day_name of Timestamp object at 0x00000171FEA30C00>\n",
      "3 <built-in method day_name of Timestamp object at 0x00000171FEA30B88>\n",
      "4 <built-in method day_name of Timestamp object at 0x00000171FEA30B10>\n",
      "5 <built-in method day_name of Timestamp object at 0x00000171FEA30A98>\n",
      "6 <built-in method day_name of Timestamp object at 0x00000171FEA30A20>\n",
      "0 <built-in method day_name of Timestamp object at 0x00000171FEA309A8>\n",
      "1 <built-in method day_name of Timestamp object at 0x00000171FEA307C8>\n",
      "2 <built-in method day_name of Timestamp object at 0x00000171FEA30228>\n",
      "3 <built-in method day_name of Timestamp object at 0x00000171FEA302A0>\n"
     ]
    }
   ],
   "source": [
    "# Create the range of dates here\n",
    "seven_days = pd.date_range(start='2017-1-1', periods=12, freq='D')\n",
    "\n",
    "# Iterate over the dates and print the number and name of the weekday\n",
    "for day in seven_days:\n",
    "    print(day.dayofweek, day.day_name)"
   ]
  },
  {
   "cell_type": "code",
   "execution_count": null,
   "metadata": {},
   "outputs": [],
   "source": []
  }
 ],
 "metadata": {
  "kernelspec": {
   "display_name": "Python 3",
   "language": "python",
   "name": "python3"
  },
  "language_info": {
   "codemirror_mode": {
    "name": "ipython",
    "version": 3
   },
   "file_extension": ".py",
   "mimetype": "text/x-python",
   "name": "python",
   "nbconvert_exporter": "python",
   "pygments_lexer": "ipython3",
   "version": "3.7.3"
  }
 },
 "nbformat": 4,
 "nbformat_minor": 2
}
