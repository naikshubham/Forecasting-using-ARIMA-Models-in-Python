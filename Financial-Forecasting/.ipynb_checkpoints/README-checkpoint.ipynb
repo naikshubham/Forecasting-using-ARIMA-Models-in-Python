{
 "cells": [
  {
   "cell_type": "markdown",
   "metadata": {},
   "source": [
    "## Financial forecasting\n",
    "\n",
    "### Financial statements\n",
    "- Records that outline the financial activities of a business, an individual or any other entity and provide an excellent format for reading and comparison\n",
    "\n",
    "#### Types of financial statements\n",
    "1. **Income statements** , also known as a profit and loss statement, which is a statement of the income and expenses of a company.\n",
    "2.  **Balance sheet** : A statement of assests, liabilities and capital of a business.\n",
    "3. Cash Flow statement\n",
    "4. Statement of shareholder's equity\n",
    "\n",
    "#### How are financial statements used in forecasting ?\n",
    "- Financial statements provide important metrics of the financial health of a company, now and in the future.\n",
    "- We will use the metrics of the income statement and balance sheet as our structure for financial forecasting.\n",
    "\n",
    "#### Income statement / profit & loss statement\n",
    "- Income statement is split into two profit totals.The two are gross profit and net profit.\n",
    "- Gross profit : **Direct sales and costs**\n",
    "- Net profit : **Indirect income and expenses**\n",
    "\n",
    "#### Gross profit\n",
    "- Only costs and income related to the sale of a company's goods or services can be placed here. In finance terms, this is called **cost of goods sold** , which is often abberviated to **COGS**\n",
    "- Gross profit is a useful indicator of how profitable a product is on its own merit, and is an important indicator of the underlying product.\n",
    "\n",
    "```python\n",
    "cogs = material_costs + direct_labor_costs + factory_costs\n",
    "gross_profit = sales - cogs\n",
    "```\n",
    "\n",
    "#### Net profit\n",
    "- Almost everything else, other than costs and income from directly manufacturing or producing the product or service of the company, will be put here.\n",
    "- The calculation for **net profit** is gross profit minus operating expenses or **OpEx**\n",
    "\n",
    "```python\n",
    "opex = insurance + admin_sales + r_d + training_cost + other_non_direct_costs\n",
    "\n",
    "net_profit = gross_profit - opex\n",
    "```\n",
    "\n",
    "\n"
   ]
  }
 ],
 "metadata": {
  "kernelspec": {
   "display_name": "Python 3",
   "language": "python",
   "name": "python3"
  },
  "language_info": {
   "codemirror_mode": {
    "name": "ipython",
    "version": 3
   },
   "file_extension": ".py",
   "mimetype": "text/x-python",
   "name": "python",
   "nbconvert_exporter": "python",
   "pygments_lexer": "ipython3",
   "version": "3.7.3"
  }
 },
 "nbformat": 4,
 "nbformat_minor": 2
}
